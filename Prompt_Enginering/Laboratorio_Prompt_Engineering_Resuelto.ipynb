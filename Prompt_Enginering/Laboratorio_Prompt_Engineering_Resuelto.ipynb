{
 "cells": [
  {
   "cell_type": "markdown",
   "id": "5e9b3ae8",
   "metadata": {},
   "source": [
    "# Laboratorio Práctico: De Prompt Simple a Prompt Avanzado — Resuelto\n",
    "\n",
    "**Archivo:** `Laboratorio_Prompt_Engineering_Resuelto.ipynb`\n",
    "\n",
    "Este notebook contiene las soluciones completas a los ejercicios de los archivos `EJERCICIOS.md` y `EJERCICIOSPARTE2.md`. Cada ejercicio incluye:\n",
    "\n",
    "- El *prompt* (simple o avanzado).\n",
    "- La respuesta simulada del modelo (tal como si la hubieras pegado).\n",
    "- Código ejecutable cuando aplica.\n",
    "- Reflexiones comparativas.\n",
    "\n",
    "---\n"
   ]
  },
  {
   "cell_type": "markdown",
   "id": "e51b675e",
   "metadata": {},
   "source": [
    "## Parte 1 — EJERCICIOS.md\n",
    "\n",
    "### Ejercicio 1: Generación de una Función de Código\n",
    "\n",
    "**Prompt Simple:**\n",
    "```\n",
    "Haz una función en Python para validar una contraseña.\n",
    "```\n",
    "\n",
    "**Prompt Avanzado:** (resumen)\n",
    "- Rol: desarrollador senior en ciberseguridad\n",
    "- Reglas: 12+ caracteres, mayúscula, minúscula, número, carácter especial\n",
    "- Salida: función `validar_contrasena` con docstrings y 3 ejemplos\n"
   ]
  },
  {
   "cell_type": "code",
   "execution_count": null,
   "id": "cef7b6a0",
   "metadata": {},
   "outputs": [],
   "source": [
    "def validar_contrasena(contrasena: str) -> bool:\n",
    "    \"\"\"Valida si una contraseña cumple con los criterios de seguridad.\n",
    "    \n",
    "    Reglas:\n",
    "    - Longitud mínima: 12 caracteres.\n",
    "    - Al menos una letra mayúscula.\n",
    "    - Al menos una letra minúscula.\n",
    "    - Al menos un dígito.\n",
    "    - Al menos un carácter especial (por ejemplo: @# $%&!).\n",
    "    \n",
    "    Parámetros\n",
    "    ----------\n",
    "    contrasena : str\n",
    "        La contraseña a validar.\n",
    "    \n",
    "    Retorna\n",
    "    -------\n",
    "    bool\n",
    "        True si la contraseña cumple todas las reglas, False en caso contrario.\n",
    "    \"\"\"\n",
    "    if not isinstance(contrasena, str):\n",
    "        return False\n",
    "    if len(contrasena) < 12:\n",
    "        return False\n",
    "    has_upper = any(c.isupper() for c in contrasena)\n",
    "    has_lower = any(c.islower() for c in contrasena)\n",
    "    has_digit = any(c.isdigit() for c in contrasena)\n",
    "    special_chars = set(\"@#$%&!^*()-_=+[]{};:,.<>?/|\\\\~`\")\n",
    "    has_special = any(c in special_chars for c in contrasena)\n",
    "    return all([has_upper, has_lower, has_digit, has_special])\n",
    "\n",
    "# Ejemplos de uso\n",
    "ejemplos = {\n",
    "    \"valida\": \"Str0ngP@ssw0rd!\",\n",
    "    \"invalida_corta\": \"Shrt1!\",\n",
    "    \"invalida_sin_mayus\": \"str0ngp@ssw0rd!\"\n",
    "}\n",
    "\n",
    "for nombre, pwd in ejemplos.items():\n",
    "    print(f\"{nombre}: {pwd} -> {validar_contrasena(pwd)}\")"
   ]
  },
  {
   "cell_type": "markdown",
   "id": "f03155d9",
   "metadata": {},
   "source": [
    "**Respuesta simulada del modelo (prompt avanzado):**\n",
    "\n",
    "```python\n",
    "# Código: función validar_contrasena (se muestra arriba)\n",
    "```\n",
    "\n",
    "**Ejemplos de uso y salida esperada:**\n",
    "- `Str0ngP@ssw0rd!` → `True`\n",
    "- `Shrt1!` → `False` (demasiado corta)\n",
    "- `str0ngp@ssw0rd!` → `False` (sin mayúscula)\n",
    "\n",
    "**Reflexión comparativa:**\n",
    "- El prompt simple podría generar una función más corta sin docstrings ni ejemplos.\n",
    "- El prompt avanzado produce una función lista para integrarse, con docstrings y ejemplos claros.\n",
    "\n",
    "---\n"
   ]
  },
  {
   "cell_type": "markdown",
   "id": "cb859cb5",
   "metadata": {},
   "source": [
    "### Ejercicio 2: Extracción de Información a JSON\n",
    "\n",
    "**Texto de entrada:**\n",
    "\n",
    "> \"La reunión de lanzamiento del Proyecto Fénix será el 15 de octubre de 2024 a las 10:30 AM en la Sala Júpiter. Los asistentes confirmados son Ana García (Líder de Proyecto), Carlos Rodríguez (Desarrollador Principal) y Elena Fernández (Diseñadora UX). El presupuesto asignado es de $25,000 USD.\"\n",
    "\n",
    "**Esquema requerido:**\n",
    "```json\n",
    "{\n",
    "  \"proyecto\": {\"nombre\":\"string\",\"presupuesto\":{\"monto\":\"number\",\"moneda\":\"string\"}},\n",
    "  \"reunion\": {\"fecha\":\"YYYY-MM-DD\",\"hora\":\"HH:MM\",\"ubicacion\":\"string\"},\n",
    "  \"asistentes\": [{\"nombre\":\"string\",\"rol\":\"string\"}]\n",
    "}\n",
    "```\n",
    "\n",
    "Se pide salida estricta con tipos y normalizaciones.\n"
   ]
  },
  {
   "cell_type": "code",
   "execution_count": null,
   "id": "f56e9f12",
   "metadata": {},
   "outputs": [],
   "source": [
    "# Código para extraer y normalizar la información del texto\n",
    "import re, datetime, json, pprint\n",
    "\n",
    "texto = (\"La reunión de lanzamiento del Proyecto Fénix será el 15 de octubre de 2024 a las 10:30 AM \"\n",
    "         \"en la Sala Júpiter. Los asistentes confirmados son Ana García (Líder de Proyecto), \"\n",
    "         \"Carlos Rodríguez (Desarrollador Principal) y Elena Fernández (Diseñadora UX). \"\n",
    "         \"El presupuesto asignado es de $25,000 USD.\")\n",
    "\n",
    "# Mapas y búsquedas\n",
    "meses = {'enero':1,'febrero':2,'marzo':3,'abril':4,'mayo':5,'junio':6,'julio':7,'agosto':8,'septiembre':9,'octubre':10,'noviembre':11,'diciembre':12}\n",
    "\n",
    "m_fecha = re.search(r'(\\d{1,2}) de (\\w+) de (\\d{4})', texto)\n",
    "fecha_iso = None\n",
    "if m_fecha:\n",
    "    dia = int(m_fecha.group(1))\n",
    "    mes_str = m_fecha.group(2).lower()\n",
    "    anio = int(m_fecha.group(3))\n",
    "    mes = meses.get(mes_str)\n",
    "    if mes:\n",
    "        fecha_iso = f\"{anio:04d}-{mes:02d}-{dia:02d}\"\n",
    "\n",
    "m_hora = re.search(r'([0-2]?\\d:[0-5]\\d)\\s*(AM|PM)?', texto, re.IGNORECASE)\n",
    "hora_24 = None\n",
    "if m_hora:\n",
    "    hora_raw = m_hora.group(1)\n",
    "    ampm = (m_hora.group(2) or '').upper()\n",
    "    dt = datetime.datetime.strptime(hora_raw, '%H:%M')\n",
    "    if ampm == 'PM' and dt.hour < 12:\n",
    "        dt = dt + datetime.timedelta(hours=12)\n",
    "    if ampm == 'AM' and dt.hour == 12:\n",
    "        dt = dt - datetime.timedelta(hours=12)\n",
    "    hora_24 = dt.strftime('%H:%M')\n",
    "\n",
    "m_ubic = re.search(r'en la ([^\\.]+)\\.', texto)\n",
    "ubicacion = m_ubic.group(1).strip() if m_ubic else None\n",
    "\n",
    "m_asist = re.search(r'Los asistentes confirmados son (.+?)\\. El presupuesto', texto)\n",
    "asistentes = []\n",
    "if m_asist:\n",
    "    lista = m_asist.group(1)\n",
    "    partes = re.split(r',\\s*', lista)\n",
    "    # manejar ' y ' en el último\n",
    "    if len(partes) > 0 and ' y ' in partes[-1]:\n",
    "        last = partes[-1]\n",
    "        antes, despues = last.rsplit(' y ', 1)\n",
    "        partes[-1] = antes\n",
    "        partes.append(después)\n",
    "    asistentes = []\n",
    "    for p in partes:\n",
    "        p = p.strip()\n",
    "        m = re.match(r'([^\\(]+)\\s*\\(([^\\)]+)\\)', p)\n",
    "        if m:\n",
    "            nombre = m.group(1).strip()\n",
    "            rol = m.group(2).strip()\n",
    "        else:\n",
    "            nombre = p\n",
    "            rol = None\n",
    "        asistentes.append({'nombre': nombre, 'rol': rol})\n",
    "\n",
    "m_pres = re.search(r'\\$([\\d,]+)\\s*([A-Za-z]{3})?', texto)\n",
    "presupuesto = {'monto': None, 'moneda': None}\n",
    "if m_pres:\n",
    "    monto_str = m_pres.group(1)\n",
    "    moneda = m_pres.group(2) or 'USD'\n",
    "    monto = int(monto_str.replace(',', ''))\n",
    "    presupuesto = {'monto': monto, 'moneda': moneda}\n",
    "\n",
    "salida = {\n",
    "    \"proyecto\": {\"nombre\": \"Proyecto Fénix\", \"presupuesto\": presupuesto},\n",
    "    \"reunion\": {\"fecha\": fecha_iso, \"hora\": hora_24, \"ubicacion\": ubicacion},\n",
    "    \"asistentes\": asistentes\n",
    "}\n",
    "\n",
    "pprint.pprint(salida)\n",
    "print('\\nJSON final:')\n",
    "print(json.dumps(salida, ensure_ascii=False, indent=2))\n"
   ]
  },
  {
   "cell_type": "markdown",
   "id": "d8255892",
   "metadata": {},
   "source": [
    "**Respuesta simulada del modelo (prompt avanzado):**\n",
    "\n",
    "```json\n",
    "{\n",
    "  \"proyecto\": {\"nombre\": \"Proyecto Fénix\", \"presupuesto\": {\"monto\": 25000, \"moneda\": \"USD\"}},\n",
    "  \"reunion\": {\"fecha\": \"2024-10-15\", \"hora\": \"10:30\", \"ubicacion\": \"Sala Júpiter\"},\n",
    "  \"asistentes\": [\n",
    "    {\"nombre\": \"Ana García\", \"rol\": \"Líder de Proyecto\"},\n",
    "    {\"nombre\": \"Carlos Rodríguez\", \"rol\": \"Desarrollador Principal\"},\n",
    "    {\"nombre\": \"Elena Fernández\", \"rol\": \"Diseñadora UX\"}\n",
    "  ]\n",
    "}\n",
    "```\n",
    "\n",
    "**Reflexión:** El prompt avanzado dirige a producir JSON válido y parseable; la normalización de fecha/hora y el tipo numérico del presupuesto son esenciales.\n",
    "\n",
    "---\n"
   ]
  },
  {
   "cell_type": "markdown",
   "id": "0c565163",
   "metadata": {},
   "source": [
    "### Ejercicio 3: Escritura creativa con tono y estilo\n",
    "\n",
    "**Prompt Avanzado**: Rol: divulgador tipo Carl Sagan; Audiencia: niños 10-12; ~100 palabras; sin la palabra 'singularidad' ni 'relatividad general'.\n",
    "\n",
    "**Respuesta simulada del modelo (aprox. 100 palabras):**\n"
   ]
  },
  {
   "cell_type": "markdown",
   "id": "b14e1b8e",
   "metadata": {},
   "source": [
    "Los agujeros negros son como gigantescos aspiradores cósmicos: lugares en el espacio donde la gravedad es tan intensa que incluso la luz no puede escapar. Imagina una tela elástica extendida; si pones una bola pesada encima, la tela se hunde. Un agujero negro hunde el espacio a su alrededor dejando una depresión profunda. Los científicos los descubren observando cómo afectan a las estrellas y al material que cae en ellos, que brilla antes de desaparecer. Aunque suene misterioso, estudiar agujeros negros nos ayuda a entender cómo funciona el universo y lo que sucede cuando las cosas son extraordinariamente compactas.\n"
   ]
  },
  {
   "cell_type": "markdown",
   "id": "9c8e91a3",
   "metadata": {},
   "source": [
    "**Reflexión:**\n",
    "- El prompt avanzado logró un texto adecuado para niños: metáforas sencillas y tono de asombro.\n",
    "\n",
    "---\n"
   ]
  },
  {
   "cell_type": "markdown",
   "id": "9d22528b",
   "metadata": {},
   "source": [
    "## Parte 2 — EJERCICIOSPARTE2.md (Respuestas simuladas)\n",
    "\n",
    "Incluye ejercicios: roles (historiador, humorista), plantillas, CoT, ReAct, Self-Consistency, ToT y JSON enforced output.\n"
   ]
  },
  {
   "cell_type": "markdown",
   "id": "79c7c1c5",
   "metadata": {},
   "source": [
    "### Ejercicio 1B — Cambiando el rol a un Historiador\n",
    "\n",
    "**Prompt:**\n",
    "```\n",
    "[system] Eres un historiador especializado en la Antigua Grecia. Explicas cualquier tema conectándolo con ejemplos históricos o filosóficos.\n",
    "[user] ¿Qué es una variable?\n",
    "```\n",
    "\n",
    "**Respuesta simulada (historiador):**\n"
   ]
  },
  {
   "cell_type": "markdown",
   "id": "f8dacfef",
   "metadata": {},
   "source": [
    "Una variable, vista desde una lente histórica, sería comparable a los símbolos que los antiguos matemáticos griegos usaban para representar cantidades desconocidas en sus problemas —aunque ellos no contaban con la notación algebraica moderna. Imagina las incógnitas en los problemas que resolvían los pitagóricos: una variable es ese lugar reservado para lo que cambia o lo que aún no conocemos. Filosóficamente, recordaría a los conceptos de Heráclito sobre el cambio: la variable captura la idea de que algo puede variar dentro de una estructura fija, y permite razonar sobre relaciones antes de conocer valores concretos.\n"
   ]
  },
  {
   "cell_type": "markdown",
   "id": "029daf2e",
   "metadata": {},
   "source": [
    "**Reflexión:**\n",
    "- El historiador conecta el concepto con ejemplos antiguos y perspectivas filosóficas, útil para audiencias humanísticas.\n",
    "\n",
    "---\n"
   ]
  },
  {
   "cell_type": "markdown",
   "id": "228b3f6f",
   "metadata": {},
   "source": [
    "### Ejercicio 1C — El Humorista\n",
    "\n",
    "**Prompt:**\n",
    "```\n",
    "[system] Eres un comediante de stand-up. Explicas conceptos técnicos de manera graciosa.\n",
    "[user] ¿Qué es una variable?\n",
    "```\n",
    "\n",
    "**Respuesta simulada (humorista):**\n"
   ]
  },
  {
   "cell_type": "markdown",
   "id": "5874b99f",
   "metadata": {},
   "source": [
    "Una variable es como esa caja donde metes cosas cuando no quieres decidir qué hacer con ellas: \"Puede ser un número, puede ser una cadena, ¡incluso puede ser tu ex!\" En programación, le pones un nombre a la caja para que luego no tengas que abrirla con sorpresa cada vez. Si la variable fuera una persona, sería ese amigo indeciso que hoy es 5 y mañana es 'hola'. Muy versátil, poco confiable en fiestas.\n"
   ]
  },
  {
   "cell_type": "markdown",
   "id": "799aebf0",
   "metadata": {},
   "source": [
    "**Reflexión:**\n",
    "- El tono humorístico facilita la memorización, aunque sacrifica formalidad técnica.\n",
    "\n",
    "---\n"
   ]
  },
  {
   "cell_type": "markdown",
   "id": "d9f4de99",
   "metadata": {},
   "source": [
    "### Sección 2: Plantillas Reutilizables\n",
    "\n",
    "#### Ejemplo: Plantilla para resumir artículos científicos\n",
    "\n",
    "**Prompt-plantilla (usada):**\n",
    "```\n",
    "# Identidad\n",
    "Eres un investigador que resume artículos científicos para estudiantes universitarios.\n",
    "\n",
    "# Instrucciones\n",
    "- Haz un resumen de máximo 150 palabras.\n",
    "- Usa un lenguaje accesible pero formal.\n",
    "- Incluye: objetivo, método y conclusión principal.\n",
    "\n",
    "# Contexto del Artículo\n",
    "<articulo>\n",
    "    <titulo>Aplicaciones de la IA en medicina</titulo>\n",
    "    <autor>Dra. López</autor>\n",
    "    <tema>Diagnóstico asistido por IA</tema>\n",
    "</articulo>\n",
    "```\n",
    "\n",
    "**Respuesta simulada (resumen ≤150 palabras):**\n"
   ]
  },
  {
   "cell_type": "markdown",
   "id": "6aa500a6",
   "metadata": {},
   "source": [
    "La Dra. López revisa aplicaciones de la inteligencia artificial en diagnóstico médico, enfocándose en sistemas que apoyan la detección temprana de enfermedades. El objetivo es evaluar qué técnicas muestran mayor precisión en imágenes médicas. El método combina revisión sistemática de estudios clínicos y comparativas de rendimiento entre modelos de aprendizaje supervisado. Como conclusión, la autora encuentra que modelos entrenados con datos cuidadosamente anotados mejoran la detección precoz, pero advierte sobre sesgos en conjuntos de datos y la necesidad de evaluación clínica rigurosa antes de su despliegue.\n"
   ]
  },
  {
   "cell_type": "markdown",
   "id": "1bf4a914",
   "metadata": {},
   "source": [
    "**Plantilla para Emails Profesionales (ejemplo de uso):**\n",
    "\n",
    "**Prompt:** se generó un email corto dirigido a un coordinador solicitando reunión. **Respuesta simulada:**\n",
    "\n",
    "> Asunto: Solicitud de reunión para revisión de avance\n",
    ">\n",
    "> Estimado Juan,\n",
    ">\n",
    "> Espero que te encuentres bien. Quisiera coordinar una reunión de 30 minutos para revisar el avance del proyecto X y definir próximos pasos. ¿Puedes indicarme tus disponibilidades esta semana? Adjunto una breve agenda.\n",
    ">\n",
    "> Saludos,\n",
    "> María\n",
    "\n",
    "---\n"
   ]
  },
  {
   "cell_type": "markdown",
   "id": "d9f3af79",
   "metadata": {},
   "source": [
    "### Sección 3: Técnicas Avanzadas\n",
    "\n",
    "#### 3.1 Chain-of-Thought (CoT)\n",
    "\n",
    "**Ejemplo:** Calcular raíz cuadrada de 1764.\n",
    "\n",
    "**Prompt con CoT solicitado:** \"Calcula la raíz cuadrada de 1764. Piensa paso a paso, muestra tu razonamiento y luego la respuesta final.\"\n",
    "\n",
    "**Respuesta simulada (pasos):**\n"
   ]
  },
  {
   "cell_type": "markdown",
   "id": "66474c23",
   "metadata": {},
   "source": [
    "1. Busco un número que multiplicado por sí mismo dé 1764.\n",
    "2. Pruebo 40 → 40×40 = 1600 (demasiado bajo).\n",
    "3. Pruebo 42 → 42×42 = 1764 (coincide).\n",
    "\n",
    "**Respuesta final:** 42\n",
    "\n",
    "(CoT ayudó a mostrar los pasos de verificación.)\n"
   ]
  },
  {
   "cell_type": "markdown",
   "id": "58337f43",
   "metadata": {},
   "source": [
    "#### 3.2 ReAct (ejemplo encadenado)\n",
    "\n",
    "**Pregunta:** ¿Cuál es la capital de Australia y en qué continente está?\n",
    "\n",
    "**Prompt con ReAct (simulado):**\n",
    "\n",
    "```\n",
    "Thought: Necesito identificar la capital de Australia.\n",
    "Action: Search(\"capital de Australia\")\n",
    "Observation: Canberra es la capital.\n",
    "\n",
    "Thought: Ahora debo identificar en qué continente está.\n",
    "Action: Search(\"Australia continente\")\n",
    "Observation: Australia está en Oceanía.\n",
    "\n",
    "Final Answer: La capital de Australia es Canberra y el país se encuentra en Oceanía.\n",
    "```\n",
    "\n",
    "**Nota:** Aquí simulamos acciones de búsqueda y observaciones para ilustrar la técnica.\n",
    "\n",
    "---\n"
   ]
  },
  {
   "cell_type": "markdown",
   "id": "eb7ae9dc",
   "metadata": {},
   "source": [
    "#### 3.3 Self-Consistency — problema de probabilidad\n",
    "\n",
    "**Problema:** Si lanzas una moneda dos veces, ¿cuál es la probabilidad de obtener dos caras seguidas?\n",
    "\n",
    "**Discusión y respuesta correcta con razonamiento:**\n"
   ]
  },
  {
   "cell_type": "markdown",
   "id": "039e289f",
   "metadata": {},
   "source": [
    "Espacio muestral: {HH, HT, TH, TT} — 4 resultados iguales de probabilidad. Solo uno de ellos (HH) tiene dos caras. Por tanto, P = 1/4 = 0.25.\n",
    "\n",
    "**Nota sobre self-consistency:** pedir varias cadenas de razonamiento y verificar la congruencia ayuda a evitar errores (p. ej. confundir con 1/2).\n",
    "\n",
    "---\n"
   ]
  },
  {
   "cell_type": "markdown",
   "id": "1f357691",
   "metadata": {},
   "source": [
    "#### 3.4 Tree-of-Thought (ToT) — Planificación de viaje (ejemplo)\n",
    "\n",
    "**Prompt:** \"Explora 3 posibles planes de viaje a Europa con presupuesto limitado. Paso 1: genera 3 opciones. Paso 2: evalúa costo, cultura y accesibilidad. Paso 3: elige la mejor y explica por qué.\"\n",
    "\n",
    "**Respuesta simulada (ToT):**\n"
   ]
  },
  {
   "cell_type": "markdown",
   "id": "d2aa3b82",
   "metadata": {},
   "source": [
    "**Opciones generadas:**\n",
    "\n",
    "1. **España (Madrid + ciudades cercanas)**\n",
    "   - Costo: Moderado (vuelos desde Sudamérica pueden ser más caros, pero transporte interno barato si se usa tren/autobús).\n",
    "   - Cultura: Alta (museos, arquitectura, gastronomía).\n",
    "   - Accesibilidad: Buena (aeropuertos internacionales, conexiones de tren).\n",
    "\n",
    "2. **Portugal (Lisboa + Oporto)**\n",
    "   - Costo: Bajo-moderado (generalmente más barato que España en alojamiento y comida).\n",
    "   - Cultura: Rica (historia marítima, barrios tradicionales).\n",
    "   - Accesibilidad: Buena, vuelos directos y transporte local económico.\n",
    "\n",
    "3. **Hungría (Budapest)**\n",
    "   - Costo: Bajo (alojamiento y comidas económicas en Europa central).\n",
    "   - Cultura: Buena (baños termales, patrimonio arquitectónico).\n",
    "   - Accesibilidad: Media (vuelos directos limitados, podría requerir escala).\n",
    "\n",
    "**Elección recomendada:** Portugal por su balance costo/experiencia y facilidad de transporte local; si buscas mayor vida nocturna y museos, España es la alternativa.\n",
    "\n",
    "---\n"
   ]
  },
  {
   "cell_type": "markdown",
   "id": "0a7c1924",
   "metadata": {},
   "source": [
    "#### 3.5 JSON Enforced Output (Extracción de contactos)\n",
    "\n",
    "**Texto de entrada:** \"Juan Pérez vive en Bogotá, Colombia. Su correo es juanperez@mail.com y su teléfono es +57 300 123 4567.\"\n",
    "\n",
    "**Prompt:** Extrae la información y responde solo con JSON:\n",
    "```json\n",
    "{\n",
    "  \"nombre\":\"string\",\n",
    "  \"ciudad\":\"string\",\n",
    "  \"pais\":\"string\",\n",
    "  \"email\":\"string\",\n",
    "  \"telefono\":\"string\"\n",
    "}\n",
    "```\n",
    "\n",
    "**Respuesta simulada (JSON):**\n"
   ]
  },
  {
   "cell_type": "markdown",
   "id": "332001bd",
   "metadata": {},
   "source": [
    "```json\n",
    "{\n",
    "  \"nombre\": \"Juan Pérez\",\n",
    "  \"ciudad\": \"Bogotá\",\n",
    "  \"pais\": \"Colombia\",\n",
    "  \"email\": \"juanperez@mail.com\",\n",
    "  \"telefono\": \"+57 300 123 4567\"\n",
    "}\n",
    "```\n",
    "\n",
    "**Reflexión:** Forzar salida JSON reduce errores de parseo cuando se integra con pipelines automáticos.\n",
    "\n",
    "---\n"
   ]
  },
  {
   "cell_type": "markdown",
   "id": "439d4983",
   "metadata": {},
   "source": [
    "## Cierre y recomendaciones finales\n",
    "\n",
    "- Los prompts avanzados (rol, formato de salida, restricciones, ejemplos) producen resultados más consistentes y útiles.\n",
    "- Técnicas como CoT, ReAct, Self-Consistency y ToT ayudan en distintos tipos de razonamiento: pasos, búsqueda externa simulada, verificación y exploración de alternativas respectivamente.\n",
    "\n",
    "---\n"
   ]
  }
 ],
 "metadata": {
  "kernelspec": {
   "display_name": "Python 3",
   "language": "python",
   "name": "python3"
  },
  "language_info": {
   "name": "python",
   "version": "3.13.5"
  }
 },
 "nbformat": 4,
 "nbformat_minor": 5
}
